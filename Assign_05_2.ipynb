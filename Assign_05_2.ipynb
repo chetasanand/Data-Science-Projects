{
  "nbformat": 4,
  "nbformat_minor": 0,
  "metadata": {
    "colab": {
      "provenance": [],
      "authorship_tag": "ABX9TyNdsVVLl6T3ZwsX8uNzeIeT",
      "include_colab_link": true
    },
    "kernelspec": {
      "name": "python3",
      "display_name": "Python 3"
    },
    "language_info": {
      "name": "python"
    }
  },
  "cells": [
    {
      "cell_type": "markdown",
      "metadata": {
        "id": "view-in-github",
        "colab_type": "text"
      },
      "source": [
        "<a href=\"https://colab.research.google.com/github/chetasanand/Data-Science-Projects/blob/main/Assign_05_2.ipynb\" target=\"_parent\"><img src=\"https://colab.research.google.com/assets/colab-badge.svg\" alt=\"Open In Colab\"/></a>"
      ]
    },
    {
      "cell_type": "code",
      "execution_count": null,
      "metadata": {
        "colab": {
          "base_uri": "https://localhost:8080/"
        },
        "id": "Rd2f4ITtV3Jy",
        "outputId": "7449847d-4bc9-452a-aa3b-8cd76aad20e8"
      },
      "outputs": [
        {
          "output_type": "stream",
          "name": "stdout",
          "text": [
            "Drive already mounted at /gdrive; to attempt to forcibly remount, call drive.mount(\"/gdrive\", force_remount=True).\n",
            "/gdrive\n"
          ]
        }
      ],
      "source": [
        "from google.colab import drive\n",
        "drive.mount('/gdrive')\n",
        "%cd /gdrive"
      ]
    },
    {
      "cell_type": "code",
      "source": [
        "import pandas as pd\n",
        "import numpy as np\n",
        "from sklearn.cluster import KMeans\n",
        "from sklearn.metrics import accuracy_score, classification_report, confusion_matrix, f1_score, precision_score, roc_auc_score\n",
        "import matplotlib.pyplot as plt\n",
        "\n",
        "# Calculate silhouette_score\n",
        "from sklearn.metrics import silhouette_score\n",
        "\n",
        "import warnings\n",
        "warnings.filterwarnings(\"ignore\")"
      ],
      "metadata": {
        "id": "-WqDUp-hXI-A"
      },
      "execution_count": null,
      "outputs": []
    },
    {
      "cell_type": "code",
      "source": [
        "#Read files\n",
        "trainfile = r'/gdrive/My Drive/CIS 508/Assign_5/SouthGermanCredit.xlsx'\n",
        "trainData = pd.read_excel(trainfile) #creates a dataframe\n",
        "\n",
        "print(trainData.shape)"
      ],
      "metadata": {
        "colab": {
          "base_uri": "https://localhost:8080/"
        },
        "id": "8doTckMBXKKV",
        "outputId": "7351f120-79f9-45cb-884a-77ee582bf055"
      },
      "execution_count": null,
      "outputs": [
        {
          "output_type": "stream",
          "name": "stdout",
          "text": [
            "(1000, 21)\n"
          ]
        }
      ]
    },
    {
      "cell_type": "code",
      "source": [
        "# To check number of null values\n",
        "trainData.isna().sum()"
      ],
      "metadata": {
        "colab": {
          "base_uri": "https://localhost:8080/"
        },
        "id": "_28WkwyravJ-",
        "outputId": "81b2d340-b49e-406d-99c4-9656158cb437"
      },
      "execution_count": null,
      "outputs": [
        {
          "output_type": "execute_result",
          "data": {
            "text/plain": [
              "laufkont    0\n",
              "laufzeit    0\n",
              "moral       0\n",
              "verw        0\n",
              "hoehe       0\n",
              "sparkont    0\n",
              "beszeit     0\n",
              "rate        0\n",
              "famges      0\n",
              "buerge      0\n",
              "wohnzeit    0\n",
              "verm        0\n",
              "alter       0\n",
              "weitkred    0\n",
              "wohn        0\n",
              "bishkred    0\n",
              "beruf       0\n",
              "pers        0\n",
              "telef       0\n",
              "gastarb     0\n",
              "kredit      0\n",
              "dtype: int64"
            ]
          },
          "metadata": {},
          "execution_count": 70
        }
      ]
    },
    {
      "cell_type": "code",
      "source": [
        "null_data = trainData.loc[trainData.isnull().any(axis=1)]\n",
        "trainData = trainData.dropna(how='any',axis=0)\n",
        "print(trainData.isna().sum())\n",
        "print(null_data.isna().sum())"
      ],
      "metadata": {
        "colab": {
          "base_uri": "https://localhost:8080/"
        },
        "id": "ihjXOxOVc5VW",
        "outputId": "d4865848-b97d-49d4-afca-0b93f127916f"
      },
      "execution_count": null,
      "outputs": [
        {
          "output_type": "stream",
          "name": "stdout",
          "text": [
            "laufkont    0\n",
            "laufzeit    0\n",
            "moral       0\n",
            "verw        0\n",
            "hoehe       0\n",
            "sparkont    0\n",
            "beszeit     0\n",
            "rate        0\n",
            "famges      0\n",
            "buerge      0\n",
            "wohnzeit    0\n",
            "verm        0\n",
            "alter       0\n",
            "weitkred    0\n",
            "wohn        0\n",
            "bishkred    0\n",
            "beruf       0\n",
            "pers        0\n",
            "telef       0\n",
            "gastarb     0\n",
            "kredit      0\n",
            "dtype: int64\n",
            "laufkont    0.0\n",
            "laufzeit    0.0\n",
            "moral       0.0\n",
            "verw        0.0\n",
            "hoehe       0.0\n",
            "sparkont    0.0\n",
            "beszeit     0.0\n",
            "rate        0.0\n",
            "famges      0.0\n",
            "buerge      0.0\n",
            "wohnzeit    0.0\n",
            "verm        0.0\n",
            "alter       0.0\n",
            "weitkred    0.0\n",
            "wohn        0.0\n",
            "bishkred    0.0\n",
            "beruf       0.0\n",
            "pers        0.0\n",
            "telef       0.0\n",
            "gastarb     0.0\n",
            "kredit      0.0\n",
            "dtype: float64\n"
          ]
        }
      ]
    },
    {
      "cell_type": "code",
      "source": [
        "trainData['kredit'].value_counts()\n",
        "# good credit to bad ratio = 2.33"
      ],
      "metadata": {
        "colab": {
          "base_uri": "https://localhost:8080/"
        },
        "id": "baZ6P1CtEb1A",
        "outputId": "e922d807-36aa-442e-ba24-bd8e2ab026e9"
      },
      "execution_count": null,
      "outputs": [
        {
          "output_type": "execute_result",
          "data": {
            "text/plain": [
              "1    700\n",
              "0    300\n",
              "Name: kredit, dtype: int64"
            ]
          },
          "metadata": {},
          "execution_count": 72
        }
      ]
    },
    {
      "cell_type": "code",
      "source": [
        "#Extract training and test data\n",
        "kredit = trainData[\"kredit\"]\n",
        "trainData_cluster = trainData.drop([\"kredit\"], axis=1) #Remove customer id column"
      ],
      "metadata": {
        "id": "Dv1ZEhttkog5"
      },
      "execution_count": null,
      "outputs": []
    },
    {
      "cell_type": "markdown",
      "source": [
        "Clustering models are distance-based algorithms. In order to measure similarities between observations and form clusters they use a distance metric. So, features with high ranges will have a bigger influence on the clustering. Therefore, standardization is required before building a clustering model."
      ],
      "metadata": {
        "id": "i9ZCHNQCm0vC"
      }
    },
    {
      "cell_type": "code",
      "source": [
        "from sklearn.preprocessing import StandardScaler\n",
        "scaler = StandardScaler()\n",
        "trainData_cluster_ss = pd.DataFrame(scaler.fit_transform(trainData_cluster), index=trainData_cluster.index, columns = trainData_cluster.columns)\n",
        "trainData_cluster_ss"
      ],
      "metadata": {
        "colab": {
          "base_uri": "https://localhost:8080/",
          "height": 488
        },
        "id": "NNSo_bI2m157",
        "outputId": "35368305-1932-4534-d6b1-4302b0261518"
      },
      "execution_count": null,
      "outputs": [
        {
          "output_type": "execute_result",
          "data": {
            "text/plain": [
              "     laufkont  laufzeit     moral      verw     hoehe  sparkont   beszeit  \\\n",
              "0   -1.254566 -0.240857  1.344014 -0.301852 -0.787657 -0.699707 -1.145978   \n",
              "1   -1.254566 -0.987573  1.344014 -1.030963 -0.167384 -0.699707 -0.317959   \n",
              "2   -0.459026 -0.738668 -0.503428  2.250036 -0.861381 -0.066488  0.510060   \n",
              "3   -1.254566 -0.738668  1.344014 -1.030963 -0.407341 -0.699707 -0.317959   \n",
              "4   -1.254566 -0.738668  1.344014 -1.030963 -0.389974 -0.699707 -0.317959   \n",
              "..        ...       ...       ...       ...       ...       ...       ...   \n",
              "995 -1.254566  0.256953 -0.503428  0.062704 -0.455191 -0.699707 -0.317959   \n",
              "996 -1.254566  0.256953 -0.503428 -1.030963 -0.343187 -0.699707  1.338078   \n",
              "997  1.132053  0.008048  1.344014 -1.030963  3.334852  1.833169  1.338078   \n",
              "998 -0.459026 -0.738668 -0.503428  0.062704  1.133062  1.833169 -1.973997   \n",
              "999 -1.254566  0.754763 -0.503428 -0.301852  1.091237  1.833169  1.338078   \n",
              "\n",
              "         rate    famges    buerge  wohnzeit      verm     alter  weitkred  \\\n",
              "0    0.918477 -0.963650 -0.303686  1.046987 -0.341055 -1.281573  0.460831   \n",
              "1   -0.870183  0.449326 -0.303686 -0.765977 -1.293723  0.040363  0.460831   \n",
              "2   -0.870183 -0.963650 -0.303686  1.046987 -1.293723 -1.105315  0.460831   \n",
              "3    0.024147  0.449326 -0.303686 -0.765977 -1.293723  0.304750  0.460831   \n",
              "4    0.918477  0.449326 -0.303686  1.046987 -0.341055  0.216621 -2.375050   \n",
              "..        ...       ...       ...       ...       ...       ...       ...   \n",
              "995 -0.870183  0.449326 -0.303686  1.046987 -1.293723 -1.281573  0.460831   \n",
              "996  0.918477  0.449326  1.790699 -1.672459 -1.293723  0.833525  0.460831   \n",
              "997  0.918477  0.449326 -0.303686  1.046987  1.564281 -0.488411  0.460831   \n",
              "998 -0.870183  0.449326 -0.303686 -1.672459  1.564281  1.450428  0.460831   \n",
              "999  0.918477  0.449326 -0.303686  1.046987 -0.341055 -0.400282  0.460831   \n",
              "\n",
              "         wohn  bishkred     beruf      pers     telef   gastarb  \n",
              "0   -1.751205 -0.704926  0.146949  0.428290 -0.823318  0.196014  \n",
              "1   -1.751205  1.027079  0.146949 -2.334869 -0.823318  0.196014  \n",
              "2   -1.751205 -0.704926 -1.383771  0.428290 -0.823318  0.196014  \n",
              "3   -1.751205  1.027079 -1.383771 -2.334869 -0.823318 -5.101669  \n",
              "4    0.135869  1.027079 -1.383771  0.428290 -0.823318 -5.101669  \n",
              "..        ...       ...       ...       ...       ...       ...  \n",
              "995 -1.751205 -0.704926 -1.383771 -2.334869 -0.823318  0.196014  \n",
              "996  0.135869 -0.704926  0.146949  0.428290 -0.823318  0.196014  \n",
              "997  2.022944 -0.704926  1.677670  0.428290  1.214598  0.196014  \n",
              "998  0.135869 -0.704926  1.677670  0.428290  1.214598  0.196014  \n",
              "999  0.135869 -0.704926  0.146949  0.428290 -0.823318  0.196014  \n",
              "\n",
              "[1000 rows x 20 columns]"
            ],
            "text/html": [
              "\n",
              "  <div id=\"df-3472737f-0760-46ff-a917-f1c02bc7fe74\">\n",
              "    <div class=\"colab-df-container\">\n",
              "      <div>\n",
              "<style scoped>\n",
              "    .dataframe tbody tr th:only-of-type {\n",
              "        vertical-align: middle;\n",
              "    }\n",
              "\n",
              "    .dataframe tbody tr th {\n",
              "        vertical-align: top;\n",
              "    }\n",
              "\n",
              "    .dataframe thead th {\n",
              "        text-align: right;\n",
              "    }\n",
              "</style>\n",
              "<table border=\"1\" class=\"dataframe\">\n",
              "  <thead>\n",
              "    <tr style=\"text-align: right;\">\n",
              "      <th></th>\n",
              "      <th>laufkont</th>\n",
              "      <th>laufzeit</th>\n",
              "      <th>moral</th>\n",
              "      <th>verw</th>\n",
              "      <th>hoehe</th>\n",
              "      <th>sparkont</th>\n",
              "      <th>beszeit</th>\n",
              "      <th>rate</th>\n",
              "      <th>famges</th>\n",
              "      <th>buerge</th>\n",
              "      <th>wohnzeit</th>\n",
              "      <th>verm</th>\n",
              "      <th>alter</th>\n",
              "      <th>weitkred</th>\n",
              "      <th>wohn</th>\n",
              "      <th>bishkred</th>\n",
              "      <th>beruf</th>\n",
              "      <th>pers</th>\n",
              "      <th>telef</th>\n",
              "      <th>gastarb</th>\n",
              "    </tr>\n",
              "  </thead>\n",
              "  <tbody>\n",
              "    <tr>\n",
              "      <th>0</th>\n",
              "      <td>-1.254566</td>\n",
              "      <td>-0.240857</td>\n",
              "      <td>1.344014</td>\n",
              "      <td>-0.301852</td>\n",
              "      <td>-0.787657</td>\n",
              "      <td>-0.699707</td>\n",
              "      <td>-1.145978</td>\n",
              "      <td>0.918477</td>\n",
              "      <td>-0.963650</td>\n",
              "      <td>-0.303686</td>\n",
              "      <td>1.046987</td>\n",
              "      <td>-0.341055</td>\n",
              "      <td>-1.281573</td>\n",
              "      <td>0.460831</td>\n",
              "      <td>-1.751205</td>\n",
              "      <td>-0.704926</td>\n",
              "      <td>0.146949</td>\n",
              "      <td>0.428290</td>\n",
              "      <td>-0.823318</td>\n",
              "      <td>0.196014</td>\n",
              "    </tr>\n",
              "    <tr>\n",
              "      <th>1</th>\n",
              "      <td>-1.254566</td>\n",
              "      <td>-0.987573</td>\n",
              "      <td>1.344014</td>\n",
              "      <td>-1.030963</td>\n",
              "      <td>-0.167384</td>\n",
              "      <td>-0.699707</td>\n",
              "      <td>-0.317959</td>\n",
              "      <td>-0.870183</td>\n",
              "      <td>0.449326</td>\n",
              "      <td>-0.303686</td>\n",
              "      <td>-0.765977</td>\n",
              "      <td>-1.293723</td>\n",
              "      <td>0.040363</td>\n",
              "      <td>0.460831</td>\n",
              "      <td>-1.751205</td>\n",
              "      <td>1.027079</td>\n",
              "      <td>0.146949</td>\n",
              "      <td>-2.334869</td>\n",
              "      <td>-0.823318</td>\n",
              "      <td>0.196014</td>\n",
              "    </tr>\n",
              "    <tr>\n",
              "      <th>2</th>\n",
              "      <td>-0.459026</td>\n",
              "      <td>-0.738668</td>\n",
              "      <td>-0.503428</td>\n",
              "      <td>2.250036</td>\n",
              "      <td>-0.861381</td>\n",
              "      <td>-0.066488</td>\n",
              "      <td>0.510060</td>\n",
              "      <td>-0.870183</td>\n",
              "      <td>-0.963650</td>\n",
              "      <td>-0.303686</td>\n",
              "      <td>1.046987</td>\n",
              "      <td>-1.293723</td>\n",
              "      <td>-1.105315</td>\n",
              "      <td>0.460831</td>\n",
              "      <td>-1.751205</td>\n",
              "      <td>-0.704926</td>\n",
              "      <td>-1.383771</td>\n",
              "      <td>0.428290</td>\n",
              "      <td>-0.823318</td>\n",
              "      <td>0.196014</td>\n",
              "    </tr>\n",
              "    <tr>\n",
              "      <th>3</th>\n",
              "      <td>-1.254566</td>\n",
              "      <td>-0.738668</td>\n",
              "      <td>1.344014</td>\n",
              "      <td>-1.030963</td>\n",
              "      <td>-0.407341</td>\n",
              "      <td>-0.699707</td>\n",
              "      <td>-0.317959</td>\n",
              "      <td>0.024147</td>\n",
              "      <td>0.449326</td>\n",
              "      <td>-0.303686</td>\n",
              "      <td>-0.765977</td>\n",
              "      <td>-1.293723</td>\n",
              "      <td>0.304750</td>\n",
              "      <td>0.460831</td>\n",
              "      <td>-1.751205</td>\n",
              "      <td>1.027079</td>\n",
              "      <td>-1.383771</td>\n",
              "      <td>-2.334869</td>\n",
              "      <td>-0.823318</td>\n",
              "      <td>-5.101669</td>\n",
              "    </tr>\n",
              "    <tr>\n",
              "      <th>4</th>\n",
              "      <td>-1.254566</td>\n",
              "      <td>-0.738668</td>\n",
              "      <td>1.344014</td>\n",
              "      <td>-1.030963</td>\n",
              "      <td>-0.389974</td>\n",
              "      <td>-0.699707</td>\n",
              "      <td>-0.317959</td>\n",
              "      <td>0.918477</td>\n",
              "      <td>0.449326</td>\n",
              "      <td>-0.303686</td>\n",
              "      <td>1.046987</td>\n",
              "      <td>-0.341055</td>\n",
              "      <td>0.216621</td>\n",
              "      <td>-2.375050</td>\n",
              "      <td>0.135869</td>\n",
              "      <td>1.027079</td>\n",
              "      <td>-1.383771</td>\n",
              "      <td>0.428290</td>\n",
              "      <td>-0.823318</td>\n",
              "      <td>-5.101669</td>\n",
              "    </tr>\n",
              "    <tr>\n",
              "      <th>...</th>\n",
              "      <td>...</td>\n",
              "      <td>...</td>\n",
              "      <td>...</td>\n",
              "      <td>...</td>\n",
              "      <td>...</td>\n",
              "      <td>...</td>\n",
              "      <td>...</td>\n",
              "      <td>...</td>\n",
              "      <td>...</td>\n",
              "      <td>...</td>\n",
              "      <td>...</td>\n",
              "      <td>...</td>\n",
              "      <td>...</td>\n",
              "      <td>...</td>\n",
              "      <td>...</td>\n",
              "      <td>...</td>\n",
              "      <td>...</td>\n",
              "      <td>...</td>\n",
              "      <td>...</td>\n",
              "      <td>...</td>\n",
              "    </tr>\n",
              "    <tr>\n",
              "      <th>995</th>\n",
              "      <td>-1.254566</td>\n",
              "      <td>0.256953</td>\n",
              "      <td>-0.503428</td>\n",
              "      <td>0.062704</td>\n",
              "      <td>-0.455191</td>\n",
              "      <td>-0.699707</td>\n",
              "      <td>-0.317959</td>\n",
              "      <td>-0.870183</td>\n",
              "      <td>0.449326</td>\n",
              "      <td>-0.303686</td>\n",
              "      <td>1.046987</td>\n",
              "      <td>-1.293723</td>\n",
              "      <td>-1.281573</td>\n",
              "      <td>0.460831</td>\n",
              "      <td>-1.751205</td>\n",
              "      <td>-0.704926</td>\n",
              "      <td>-1.383771</td>\n",
              "      <td>-2.334869</td>\n",
              "      <td>-0.823318</td>\n",
              "      <td>0.196014</td>\n",
              "    </tr>\n",
              "    <tr>\n",
              "      <th>996</th>\n",
              "      <td>-1.254566</td>\n",
              "      <td>0.256953</td>\n",
              "      <td>-0.503428</td>\n",
              "      <td>-1.030963</td>\n",
              "      <td>-0.343187</td>\n",
              "      <td>-0.699707</td>\n",
              "      <td>1.338078</td>\n",
              "      <td>0.918477</td>\n",
              "      <td>0.449326</td>\n",
              "      <td>1.790699</td>\n",
              "      <td>-1.672459</td>\n",
              "      <td>-1.293723</td>\n",
              "      <td>0.833525</td>\n",
              "      <td>0.460831</td>\n",
              "      <td>0.135869</td>\n",
              "      <td>-0.704926</td>\n",
              "      <td>0.146949</td>\n",
              "      <td>0.428290</td>\n",
              "      <td>-0.823318</td>\n",
              "      <td>0.196014</td>\n",
              "    </tr>\n",
              "    <tr>\n",
              "      <th>997</th>\n",
              "      <td>1.132053</td>\n",
              "      <td>0.008048</td>\n",
              "      <td>1.344014</td>\n",
              "      <td>-1.030963</td>\n",
              "      <td>3.334852</td>\n",
              "      <td>1.833169</td>\n",
              "      <td>1.338078</td>\n",
              "      <td>0.918477</td>\n",
              "      <td>0.449326</td>\n",
              "      <td>-0.303686</td>\n",
              "      <td>1.046987</td>\n",
              "      <td>1.564281</td>\n",
              "      <td>-0.488411</td>\n",
              "      <td>0.460831</td>\n",
              "      <td>2.022944</td>\n",
              "      <td>-0.704926</td>\n",
              "      <td>1.677670</td>\n",
              "      <td>0.428290</td>\n",
              "      <td>1.214598</td>\n",
              "      <td>0.196014</td>\n",
              "    </tr>\n",
              "    <tr>\n",
              "      <th>998</th>\n",
              "      <td>-0.459026</td>\n",
              "      <td>-0.738668</td>\n",
              "      <td>-0.503428</td>\n",
              "      <td>0.062704</td>\n",
              "      <td>1.133062</td>\n",
              "      <td>1.833169</td>\n",
              "      <td>-1.973997</td>\n",
              "      <td>-0.870183</td>\n",
              "      <td>0.449326</td>\n",
              "      <td>-0.303686</td>\n",
              "      <td>-1.672459</td>\n",
              "      <td>1.564281</td>\n",
              "      <td>1.450428</td>\n",
              "      <td>0.460831</td>\n",
              "      <td>0.135869</td>\n",
              "      <td>-0.704926</td>\n",
              "      <td>1.677670</td>\n",
              "      <td>0.428290</td>\n",
              "      <td>1.214598</td>\n",
              "      <td>0.196014</td>\n",
              "    </tr>\n",
              "    <tr>\n",
              "      <th>999</th>\n",
              "      <td>-1.254566</td>\n",
              "      <td>0.754763</td>\n",
              "      <td>-0.503428</td>\n",
              "      <td>-0.301852</td>\n",
              "      <td>1.091237</td>\n",
              "      <td>1.833169</td>\n",
              "      <td>1.338078</td>\n",
              "      <td>0.918477</td>\n",
              "      <td>0.449326</td>\n",
              "      <td>-0.303686</td>\n",
              "      <td>1.046987</td>\n",
              "      <td>-0.341055</td>\n",
              "      <td>-0.400282</td>\n",
              "      <td>0.460831</td>\n",
              "      <td>0.135869</td>\n",
              "      <td>-0.704926</td>\n",
              "      <td>0.146949</td>\n",
              "      <td>0.428290</td>\n",
              "      <td>-0.823318</td>\n",
              "      <td>0.196014</td>\n",
              "    </tr>\n",
              "  </tbody>\n",
              "</table>\n",
              "<p>1000 rows × 20 columns</p>\n",
              "</div>\n",
              "      <button class=\"colab-df-convert\" onclick=\"convertToInteractive('df-3472737f-0760-46ff-a917-f1c02bc7fe74')\"\n",
              "              title=\"Convert this dataframe to an interactive table.\"\n",
              "              style=\"display:none;\">\n",
              "        \n",
              "  <svg xmlns=\"http://www.w3.org/2000/svg\" height=\"24px\"viewBox=\"0 0 24 24\"\n",
              "       width=\"24px\">\n",
              "    <path d=\"M0 0h24v24H0V0z\" fill=\"none\"/>\n",
              "    <path d=\"M18.56 5.44l.94 2.06.94-2.06 2.06-.94-2.06-.94-.94-2.06-.94 2.06-2.06.94zm-11 1L8.5 8.5l.94-2.06 2.06-.94-2.06-.94L8.5 2.5l-.94 2.06-2.06.94zm10 10l.94 2.06.94-2.06 2.06-.94-2.06-.94-.94-2.06-.94 2.06-2.06.94z\"/><path d=\"M17.41 7.96l-1.37-1.37c-.4-.4-.92-.59-1.43-.59-.52 0-1.04.2-1.43.59L10.3 9.45l-7.72 7.72c-.78.78-.78 2.05 0 2.83L4 21.41c.39.39.9.59 1.41.59.51 0 1.02-.2 1.41-.59l7.78-7.78 2.81-2.81c.8-.78.8-2.07 0-2.86zM5.41 20L4 18.59l7.72-7.72 1.47 1.35L5.41 20z\"/>\n",
              "  </svg>\n",
              "      </button>\n",
              "      \n",
              "  <style>\n",
              "    .colab-df-container {\n",
              "      display:flex;\n",
              "      flex-wrap:wrap;\n",
              "      gap: 12px;\n",
              "    }\n",
              "\n",
              "    .colab-df-convert {\n",
              "      background-color: #E8F0FE;\n",
              "      border: none;\n",
              "      border-radius: 50%;\n",
              "      cursor: pointer;\n",
              "      display: none;\n",
              "      fill: #1967D2;\n",
              "      height: 32px;\n",
              "      padding: 0 0 0 0;\n",
              "      width: 32px;\n",
              "    }\n",
              "\n",
              "    .colab-df-convert:hover {\n",
              "      background-color: #E2EBFA;\n",
              "      box-shadow: 0px 1px 2px rgba(60, 64, 67, 0.3), 0px 1px 3px 1px rgba(60, 64, 67, 0.15);\n",
              "      fill: #174EA6;\n",
              "    }\n",
              "\n",
              "    [theme=dark] .colab-df-convert {\n",
              "      background-color: #3B4455;\n",
              "      fill: #D2E3FC;\n",
              "    }\n",
              "\n",
              "    [theme=dark] .colab-df-convert:hover {\n",
              "      background-color: #434B5C;\n",
              "      box-shadow: 0px 1px 3px 1px rgba(0, 0, 0, 0.15);\n",
              "      filter: drop-shadow(0px 1px 2px rgba(0, 0, 0, 0.3));\n",
              "      fill: #FFFFFF;\n",
              "    }\n",
              "  </style>\n",
              "\n",
              "      <script>\n",
              "        const buttonEl =\n",
              "          document.querySelector('#df-3472737f-0760-46ff-a917-f1c02bc7fe74 button.colab-df-convert');\n",
              "        buttonEl.style.display =\n",
              "          google.colab.kernel.accessAllowed ? 'block' : 'none';\n",
              "\n",
              "        async function convertToInteractive(key) {\n",
              "          const element = document.querySelector('#df-3472737f-0760-46ff-a917-f1c02bc7fe74');\n",
              "          const dataTable =\n",
              "            await google.colab.kernel.invokeFunction('convertToInteractive',\n",
              "                                                     [key], {});\n",
              "          if (!dataTable) return;\n",
              "\n",
              "          const docLinkHtml = 'Like what you see? Visit the ' +\n",
              "            '<a target=\"_blank\" href=https://colab.research.google.com/notebooks/data_table.ipynb>data table notebook</a>'\n",
              "            + ' to learn more about interactive tables.';\n",
              "          element.innerHTML = '';\n",
              "          dataTable['output_type'] = 'display_data';\n",
              "          await google.colab.output.renderOutput(dataTable, element);\n",
              "          const docLink = document.createElement('div');\n",
              "          docLink.innerHTML = docLinkHtml;\n",
              "          element.appendChild(docLink);\n",
              "        }\n",
              "      </script>\n",
              "    </div>\n",
              "  </div>\n",
              "  "
            ]
          },
          "metadata": {},
          "execution_count": 74
        }
      ]
    },
    {
      "cell_type": "code",
      "source": [
        "#K-Means Clustering ========================================================================\n",
        "#Default Mode - K=8\n",
        "kmeans_8 = KMeans()\n",
        "kmeans_8.fit(trainData_cluster_ss)\n",
        "print(kmeans_8.labels_)\n",
        "print(kmeans_8.cluster_centers_)\n",
        "#Print Silhouette measure\n",
        "print(silhouette_score(trainData_cluster_ss, kmeans_8.labels_))\n",
        "print(trainData.shape)"
      ],
      "metadata": {
        "colab": {
          "base_uri": "https://localhost:8080/"
        },
        "id": "CxLowWvPwqOL",
        "outputId": "494bdc80-66b1-45a5-9cd2-a5ef1902288d"
      },
      "execution_count": null,
      "outputs": [
        {
          "output_type": "stream",
          "name": "stdout",
          "text": [
            "[6 0 6 5 5 5 5 5 0 6 0 6 6 2 6 6 0 6 0 0 0 0 1 1 0 7 6 0 1 7 0 0 0 1 1 0 0\n",
            " 0 1 0 0 4 0 3 7 6 3 0 1 3 1 1 1 0 7 0 0 5 7 7 0 1 0 2 0 1 7 1 1 7 0 7 7 7\n",
            " 7 1 0 0 0 7 0 0 1 0 0 6 0 0 0 6 1 6 3 7 2 0 1 3 1 3 0 6 3 6 4 4 4 1 1 0 1\n",
            " 7 6 1 7 6 6 6 0 7 2 0 1 1 7 0 1 1 1 0 1 7 1 1 7 1 7 7 0 0 7 7 7 1 6 7 7 6\n",
            " 3 0 6 1 2 7 1 0 1 0 3 0 0 3 6 1 6 0 0 3 0 0 1 1 6 1 0 7 3 6 3 2 6 1 3 1 3\n",
            " 3 7 7 3 1 6 3 2 1 1 2 0 0 1 3 7 4 7 5 5 3 6 1 2 7 5 6 6 5 1 4 6 5 2 5 7 0\n",
            " 0 2 1 0 7 1 3 3 1 7 2 6 1 7 0 7 6 7 0 2 6 0 7 6 0 0 1 6 7 3 7 1 0 3 6 6 7\n",
            " 3 1 0 1 6 1 7 1 7 6 7 6 2 6 7 7 3 7 3 6 6 1 1 6 6 1 6 0 1 7 0 0 6 0 3 0 2\n",
            " 6 3 6 1 3 1 6 0 1 6 1 4 6 2 0 0 0 1 6 7 3 1 0 5 5 1 3 5 5 0 5 5 5 0 0 0 0\n",
            " 6 0 5 5 0 4 5 0 5 0 5 0 5 7 0 1 0 5 7 3 4 7 2 4 5 1 0 0 1 0 1 7 7 7 3 6 6\n",
            " 3 0 6 1 0 1 1 2 4 0 6 6 2 6 0 1 1 7 1 6 1 0 6 0 1 6 1 1 6 1 3 3 6 6 1 3 1\n",
            " 3 3 2 6 3 0 3 0 0 0 0 0 0 1 0 0 7 0 0 2 0 6 6 6 7 3 3 0 7 1 1 0 3 6 3 2 1\n",
            " 0 1 0 1 2 7 7 7 7 2 1 2 3 3 1 6 6 0 6 1 6 7 1 7 6 0 7 0 3 6 1 3 0 1 0 7 0\n",
            " 6 3 5 0 3 0 5 3 7 1 0 3 0 0 1 1 0 1 1 1 0 7 0 2 0 0 0 0 7 1 1 1 1 6 1 3 7\n",
            " 2 6 1 2 1 6 1 2 1 1 7 1 0 0 6 0 1 7 1 0 0 7 1 2 1 1 0 3 1 0 1 6 6 0 1 3 1\n",
            " 3 2 1 6 3 0 0 2 7 3 6 3 0 0 2 1 2 2 7 2 2 7 6 6 2 4 1 0 1 7 2 0 4 4 1 1 3\n",
            " 6 6 4 4 4 0 4 1 2 0 7 4 7 6 5 0 7 7 1 1 4 4 2 4 2 7 6 0 2 3 7 4 2 0 7 0 3\n",
            " 7 6 4 6 1 7 1 0 3 6 0 0 3 2 7 0 2 0 2 3 3 6 7 3 0 2 3 0 4 5 5 5 4 4 7 0 4\n",
            " 4 4 4 4 4 4 4 4 4 0 0 4 4 4 1 4 0 4 1 0 1 1 1 1 2 1 1 1 1 2 0 1 6 0 2 2 6\n",
            " 7 0 0 0 0 4 2 7 4 3 0 4 1 2 3 6 2 2 7 1 2 1 6 1 7 2 2 2 2 0 6 7 6 7 0 7 7\n",
            " 6 6 6 0 6 1 7 0 7 7 7 1 0 6 2 7 0 7 4 6 6 7 7 2 0 1 4 0 7 6 1 1 1 2 3 6 7\n",
            " 6 1 3 2 1 2 1 1 7 1 0 3 6 1 6 2 6 3 7 1 6 7 7 1 6 6 1 1 6 1 2 1 7 2 2 6 1\n",
            " 7 1 7 1 6 6 2 2 6 1 6 1 7 0 1 1 1 2 3 1 6 2 3 7 7 1 7 1 6 2 2 0 1 2 7 2 4\n",
            " 6 3 0 4 7 7 6 1 1 3 6 1 0 2 0 1 2 0 6 7 0 6 3 7 1 1 2 6 3 1 1 2 1 6 2 1 2\n",
            " 6 2 2 2 1 1 1 2 3 6 3 4 4 1 7 4 6 6 7 6 1 2 7 0 3 7 7 1 6 6 7 2 7 1 6 3 1\n",
            " 6 3 6 2 2 4 1 6 6 5 5 1 7 1 2 2 7 7 2 7 2 1 2 7 0 1 0 3 2 1 0 3 6 6 1 0 1\n",
            " 2 6 7 2 3 1 7 7 3 2 4 2 6 2 2 2 6 7 1 3 2 6 4 3 5 1 1 6 1 2 7 0 1 6 4 2 2\n",
            " 7]\n",
            "[[ 0.52924694 -0.27293263  1.19164773 -0.24171906 -0.28524523  0.21748136\n",
            "   0.47591451  0.20393496  0.17255791 -0.22811516  0.20124834 -0.13480742\n",
            "   0.46601749  0.14654489  0.08723343  1.06279035 -0.08186988 -0.14143383\n",
            "   0.0905927   0.19601428]\n",
            " [-0.06125653 -0.33321826 -0.3247838  -0.26230109 -0.39783146 -0.3173861\n",
            "  -0.5991732   0.15070308  0.08275243 -0.29380656 -0.91563231 -0.17928131\n",
            "  -0.51335355  0.05952675  0.02905383 -0.45166113 -0.07688261  0.2979519\n",
            "  -0.36190304  0.19601428]\n",
            " [-0.18168223  1.55323898 -0.14749876  0.03594717  2.12242813  0.10779247\n",
            "  -0.05208163 -0.40250605  0.04747082 -0.16918398 -0.1006694   0.8563348\n",
            "   0.08644897 -0.11154899  0.56868465 -0.05343791  0.73676814  0.02268832\n",
            "   0.70979291  0.14741168]\n",
            " [ 0.15687524  0.24267896 -0.14585853  2.16771729  0.06078076  0.04926172\n",
            "  -0.00633924 -0.07201763  0.1454606  -0.25864521 -0.2981156  -0.17715525\n",
            "  -0.03449922 -0.39298299  0.05470487  0.28213056  0.01527429 -0.1065153\n",
            "   0.33807485  0.19601428]\n",
            " [-0.48743836 -0.1193678  -0.22301265 -0.11306427 -0.25858336 -0.43963492\n",
            "  -0.05181032  0.02414692  0.22224099  3.47368607 -0.18323886 -0.73232941\n",
            "  -0.06192956 -0.02025629 -0.10001496 -0.11728148 -0.37240246 -0.16381582\n",
            "  -0.35023035  0.19601428]\n",
            " [-0.17174812 -0.76862835  0.21502173 -0.66640737 -0.30995839  0.07422734\n",
            "  -0.11095453 -0.44786072  0.41007713  0.74350645 -0.18683601 -0.68507405\n",
            "   0.08197963  0.10634554 -0.44073676 -0.07947978 -0.5333711  -0.41600886\n",
            "  -0.42705653 -5.10166904]\n",
            " [-0.28452082 -0.19482315 -0.2233319  -0.21718097 -0.26161771  0.01521768\n",
            "  -0.39274805 -0.35666467 -0.72663448 -0.23612495  0.72533178 -0.26730017\n",
            "  -0.56744325  0.32361063 -1.06942345 -0.40322192 -0.22832426  0.28567493\n",
            "  -0.23166498  0.19601428]\n",
            " [-0.04754034 -0.02571162 -0.64357873 -0.26916763 -0.21468634  0.19553367\n",
            "   0.74989957  0.33870445  0.10826322 -0.24590961  0.67814229  0.65103352\n",
            "   0.69434167 -0.31170245  0.66945599 -0.40630446  0.17861926 -0.33396105\n",
            "   0.14644883  0.19601428]]\n",
            "0.07247961088117577\n",
            "(1000, 21)\n"
          ]
        }
      ]
    },
    {
      "cell_type": "code",
      "source": [
        "#K-Means Clustering ========================================================================\n",
        "\n",
        "sil = []\n",
        "for k in range(2,10):\n",
        "  kmeans = KMeans(n_clusters = k)\n",
        "  kmeans.fit(trainData_cluster_ss)\n",
        "  # print(kmeans.labels_)\n",
        "  # print(kmeans.cluster_centers_)\n",
        "  print(k, silhouette_score(trainData_cluster_ss, kmeans.labels_))\n",
        "  sil.append(silhouette_score(trainData_cluster_ss, kmeans.labels_))\n",
        "  # print(X_train.shape)"
      ],
      "metadata": {
        "colab": {
          "base_uri": "https://localhost:8080/"
        },
        "id": "FMrpi8oPwsqj",
        "outputId": "aa4331e4-ab10-45ca-c0cf-46defd0878a1"
      },
      "execution_count": null,
      "outputs": [
        {
          "output_type": "stream",
          "name": "stdout",
          "text": [
            "2 0.08307559905573254\n",
            "3 0.07381195030765327\n",
            "4 0.08392560863202456\n",
            "5 0.07553347659249486\n",
            "6 0.06808568213021673\n",
            "7 0.07299892445705612\n",
            "8 0.07019662569618638\n",
            "9 0.07165193349472093\n"
          ]
        }
      ]
    },
    {
      "cell_type": "markdown",
      "source": [
        "From the silhouette score, we find that k = 6 gives the best score of 0.08740829256664938\n",
        "\n",
        "We will use k=6 going forward for this dataset"
      ],
      "metadata": {
        "id": "f5jOFWnblpw4"
      }
    },
    {
      "cell_type": "code",
      "source": [
        "#K-Means Clustering ========================================================================\n",
        "#Default Mode - K=6\n",
        "kmeans_3 = KMeans(n_clusters = 6)\n",
        "kmeans_3.fit(trainData_cluster_ss)\n",
        "# print(kmeans_3.labels_)\n",
        "# print(kmeans_3.cluster_centers_)\n",
        "#Print Silhouette measure\n",
        "print(silhouette_score(trainData_cluster_ss, kmeans_3.labels_))\n",
        "print(trainData.shape)"
      ],
      "metadata": {
        "colab": {
          "base_uri": "https://localhost:8080/"
        },
        "id": "_UJh45wEozdG",
        "outputId": "efa0fe65-2d2b-4873-d796-346bc3745705"
      },
      "execution_count": null,
      "outputs": [
        {
          "output_type": "stream",
          "name": "stdout",
          "text": [
            "0.06748347247447287\n",
            "(1000, 21)\n"
          ]
        }
      ]
    },
    {
      "cell_type": "code",
      "source": [
        "#Add Cluster Number to each datapoint + save file\n",
        "df_kmeans=trainData_cluster.copy()\n",
        "kmeans_predict_train=kmeans_3.predict(df_kmeans)\n",
        "print(kmeans_predict_train)\n",
        "\n",
        "df_kmeans['Cluster Number']=kmeans_3.labels_\n",
        "print(trainData_cluster.shape)\n",
        "print(df_kmeans.shape)\n",
        "print(df_kmeans.head())\n",
        "df_kmeans.dtypes\n",
        "\n",
        "export_csv = df_kmeans.to_csv(r'/gdrive/My Drive/CIS 508/Assign_5/KmeansClusters_SGC-3.csv')"
      ],
      "metadata": {
        "colab": {
          "base_uri": "https://localhost:8080/"
        },
        "id": "o64Ee51Txxm_",
        "outputId": "95d7317e-0055-40f0-b41d-4dd6179146a0"
      },
      "execution_count": null,
      "outputs": [
        {
          "output_type": "stream",
          "name": "stdout",
          "text": [
            "[2 2 2 2 2 2 2 2 2 2 2 2 2 2 2 2 2 2 2 2 2 2 2 2 2 2 2 2 2 2 2 2 2 2 2 2 2\n",
            " 2 2 2 2 2 2 2 2 2 2 2 2 2 2 2 2 2 2 2 2 2 2 2 2 2 2 2 2 2 2 2 2 2 2 2 2 2\n",
            " 2 2 2 2 2 2 2 2 2 2 2 2 2 2 2 2 2 2 2 2 2 2 2 2 2 2 2 2 2 2 2 2 2 2 2 2 2\n",
            " 2 2 2 2 2 2 2 2 2 2 2 2 2 2 2 2 2 2 2 2 2 2 2 2 2 2 2 2 2 2 2 2 2 2 2 2 2\n",
            " 2 2 2 2 2 2 2 2 2 2 2 2 2 2 2 2 2 2 2 2 2 2 2 2 2 2 2 2 2 2 2 2 2 2 2 2 2\n",
            " 2 2 2 2 2 2 2 2 2 2 2 2 2 2 2 2 2 2 2 2 2 2 2 2 2 2 2 2 2 2 2 2 2 2 2 2 2\n",
            " 2 2 2 2 2 2 2 2 2 2 2 2 2 2 2 2 2 2 2 2 2 2 2 2 2 2 2 2 2 2 2 2 2 2 2 2 2\n",
            " 2 2 2 2 2 2 2 2 2 2 2 2 2 2 2 2 2 2 2 2 2 2 2 2 2 2 2 2 2 2 2 2 2 2 2 2 2\n",
            " 2 2 2 2 2 2 2 2 2 2 2 2 2 2 2 2 2 2 2 2 2 2 2 2 2 2 2 2 2 2 2 2 2 2 2 2 2\n",
            " 2 2 2 2 2 2 2 2 2 2 2 2 2 2 2 2 2 2 2 2 2 2 2 2 2 2 2 2 2 2 2 2 2 2 2 2 2\n",
            " 2 2 2 2 2 2 2 2 2 2 2 2 2 2 2 2 2 2 2 2 2 2 2 2 2 2 2 2 2 2 2 2 2 2 2 2 2\n",
            " 2 2 2 2 2 2 2 2 2 2 2 2 2 2 2 2 2 2 2 2 2 2 2 2 2 2 2 2 2 2 2 2 2 2 2 2 2\n",
            " 2 2 2 2 2 2 2 2 2 2 2 2 2 2 2 2 2 2 2 2 2 2 2 2 2 2 2 2 2 2 2 2 2 2 2 2 2\n",
            " 2 2 2 2 2 2 2 2 2 2 2 2 2 2 2 2 2 2 2 2 2 2 2 2 2 2 2 2 2 2 2 2 2 2 2 2 2\n",
            " 2 2 2 2 2 2 2 2 2 2 2 2 2 2 2 2 2 2 2 2 2 2 2 2 2 2 2 2 2 2 2 2 2 2 2 2 2\n",
            " 2 2 2 2 2 2 2 2 2 2 2 2 2 2 2 2 2 2 2 2 2 2 2 2 2 2 2 2 2 2 2 2 2 2 2 2 2\n",
            " 2 2 2 2 2 2 2 2 2 2 2 2 2 2 2 2 2 2 2 2 2 2 2 2 2 2 2 2 2 2 2 2 2 2 2 2 2\n",
            " 2 2 2 2 2 2 2 2 2 2 2 2 2 2 2 2 2 2 2 2 2 2 2 2 2 2 2 2 2 2 2 2 2 2 2 2 2\n",
            " 2 2 2 2 2 2 2 2 2 2 2 2 2 2 2 2 2 2 2 2 2 2 2 2 2 2 2 2 2 2 2 2 2 2 2 2 2\n",
            " 2 2 2 2 2 2 2 2 2 2 2 2 2 2 2 2 2 2 2 2 2 2 2 2 2 2 2 2 2 2 2 2 2 2 2 2 2\n",
            " 2 2 2 2 2 2 2 2 2 2 2 2 2 2 2 2 2 2 2 2 2 2 2 2 2 2 2 2 2 2 2 2 2 2 2 2 2\n",
            " 2 2 2 2 2 2 2 2 2 2 2 2 2 2 2 2 2 2 2 2 2 2 2 2 2 2 2 2 2 2 2 2 2 2 2 2 2\n",
            " 2 2 2 2 2 2 2 2 2 2 2 2 2 2 2 2 2 2 2 2 2 2 2 2 2 2 2 2 2 2 2 2 2 2 2 2 2\n",
            " 2 2 2 2 2 2 2 2 2 2 2 2 2 2 2 2 2 2 2 2 2 2 2 2 2 2 2 2 2 2 2 2 2 2 2 2 2\n",
            " 2 2 2 2 2 2 2 2 2 2 2 2 2 2 2 2 2 2 2 2 2 2 2 2 2 2 2 2 2 2 2 2 2 2 2 2 2\n",
            " 2 2 2 2 2 2 2 2 2 2 2 2 2 2 2 2 2 2 2 2 2 2 2 2 2 2 2 2 2 2 2 2 2 2 2 2 2\n",
            " 2 2 2 2 2 2 2 2 2 2 2 2 2 2 2 2 2 2 2 2 2 2 2 2 2 2 2 2 2 2 2 2 2 2 2 2 2\n",
            " 2]\n",
            "(1000, 20)\n",
            "(1000, 21)\n",
            "   laufkont  laufzeit  moral  verw  hoehe  sparkont  beszeit  rate  famges  \\\n",
            "0         1        18      4     2   1049         1        2     4       2   \n",
            "1         1         9      4     0   2799         1        3     2       3   \n",
            "2         2        12      2     9    841         2        4     2       2   \n",
            "3         1        12      4     0   2122         1        3     3       3   \n",
            "4         1        12      4     0   2171         1        3     4       3   \n",
            "\n",
            "   buerge  ...  verm  alter  weitkred  wohn  bishkred  beruf  pers  telef  \\\n",
            "0       1  ...     2     21         3     1         1      3     2      1   \n",
            "1       1  ...     1     36         3     1         2      3     1      1   \n",
            "2       1  ...     1     23         3     1         1      2     2      1   \n",
            "3       1  ...     1     39         3     1         2      2     1      1   \n",
            "4       1  ...     2     38         1     2         2      2     2      1   \n",
            "\n",
            "   gastarb  Cluster Number  \n",
            "0        2               0  \n",
            "1        2               3  \n",
            "2        2               0  \n",
            "3        1               5  \n",
            "4        1               5  \n",
            "\n",
            "[5 rows x 21 columns]\n"
          ]
        }
      ]
    },
    {
      "cell_type": "code",
      "source": [
        "df_kmeans['Cluster Number'].value_counts()"
      ],
      "metadata": {
        "colab": {
          "base_uri": "https://localhost:8080/"
        },
        "id": "PXGE3XCwzLkQ",
        "outputId": "adfd8c8e-b229-4048-8c78-c6ec341c8397"
      },
      "execution_count": null,
      "outputs": [
        {
          "output_type": "execute_result",
          "data": {
            "text/plain": [
              "1    257\n",
              "4    245\n",
              "0    181\n",
              "2    149\n",
              "3    132\n",
              "5     36\n",
              "Name: Cluster Number, dtype: int64"
            ]
          },
          "metadata": {},
          "execution_count": 79
        }
      ]
    },
    {
      "cell_type": "code",
      "source": [
        "print(df_kmeans.shape)\n",
        "print(df_kmeans)\n",
        "# df_kmeans = df_kmeans.append(y_train, ignore_index = True)\n",
        "df_kmeans = pd.concat([df_kmeans, kredit], axis=1)\n",
        "print(df_kmeans.shape)\n",
        "print(df_kmeans)\n",
        "\n",
        "export_csv = df_kmeans.to_csv(r'/gdrive/My Drive/CIS 508/Assign_5/KmeansClusters_SGC-3.csv')"
      ],
      "metadata": {
        "colab": {
          "base_uri": "https://localhost:8080/"
        },
        "id": "bbxx9hXOz8jT",
        "outputId": "9e6059d0-9cbc-4f75-d0bf-e3ae6bcd440a"
      },
      "execution_count": null,
      "outputs": [
        {
          "output_type": "stream",
          "name": "stdout",
          "text": [
            "(1000, 21)\n",
            "     laufkont  laufzeit  moral  verw  hoehe  sparkont  beszeit  rate  famges  \\\n",
            "0           1        18      4     2   1049         1        2     4       2   \n",
            "1           1         9      4     0   2799         1        3     2       3   \n",
            "2           2        12      2     9    841         2        4     2       2   \n",
            "3           1        12      4     0   2122         1        3     3       3   \n",
            "4           1        12      4     0   2171         1        3     4       3   \n",
            "..        ...       ...    ...   ...    ...       ...      ...   ...     ...   \n",
            "995         1        24      2     3   1987         1        3     2       3   \n",
            "996         1        24      2     0   2303         1        5     4       3   \n",
            "997         4        21      4     0  12680         5        5     4       3   \n",
            "998         2        12      2     3   6468         5        1     2       3   \n",
            "999         1        30      2     2   6350         5        5     4       3   \n",
            "\n",
            "     buerge  ...  verm  alter  weitkred  wohn  bishkred  beruf  pers  telef  \\\n",
            "0         1  ...     2     21         3     1         1      3     2      1   \n",
            "1         1  ...     1     36         3     1         2      3     1      1   \n",
            "2         1  ...     1     23         3     1         1      2     2      1   \n",
            "3         1  ...     1     39         3     1         2      2     1      1   \n",
            "4         1  ...     2     38         1     2         2      2     2      1   \n",
            "..      ...  ...   ...    ...       ...   ...       ...    ...   ...    ...   \n",
            "995       1  ...     1     21         3     1         1      2     1      1   \n",
            "996       2  ...     1     45         3     2         1      3     2      1   \n",
            "997       1  ...     4     30         3     3         1      4     2      2   \n",
            "998       1  ...     4     52         3     2         1      4     2      2   \n",
            "999       1  ...     2     31         3     2         1      3     2      1   \n",
            "\n",
            "     gastarb  Cluster Number  \n",
            "0          2               0  \n",
            "1          2               3  \n",
            "2          2               0  \n",
            "3          1               5  \n",
            "4          1               5  \n",
            "..       ...             ...  \n",
            "995        2               3  \n",
            "996        2               4  \n",
            "997        2               2  \n",
            "998        2               2  \n",
            "999        2               1  \n",
            "\n",
            "[1000 rows x 21 columns]\n",
            "(1000, 22)\n",
            "     laufkont  laufzeit  moral  verw  hoehe  sparkont  beszeit  rate  famges  \\\n",
            "0           1        18      4     2   1049         1        2     4       2   \n",
            "1           1         9      4     0   2799         1        3     2       3   \n",
            "2           2        12      2     9    841         2        4     2       2   \n",
            "3           1        12      4     0   2122         1        3     3       3   \n",
            "4           1        12      4     0   2171         1        3     4       3   \n",
            "..        ...       ...    ...   ...    ...       ...      ...   ...     ...   \n",
            "995         1        24      2     3   1987         1        3     2       3   \n",
            "996         1        24      2     0   2303         1        5     4       3   \n",
            "997         4        21      4     0  12680         5        5     4       3   \n",
            "998         2        12      2     3   6468         5        1     2       3   \n",
            "999         1        30      2     2   6350         5        5     4       3   \n",
            "\n",
            "     buerge  ...  alter  weitkred  wohn  bishkred  beruf  pers  telef  \\\n",
            "0         1  ...     21         3     1         1      3     2      1   \n",
            "1         1  ...     36         3     1         2      3     1      1   \n",
            "2         1  ...     23         3     1         1      2     2      1   \n",
            "3         1  ...     39         3     1         2      2     1      1   \n",
            "4         1  ...     38         1     2         2      2     2      1   \n",
            "..      ...  ...    ...       ...   ...       ...    ...   ...    ...   \n",
            "995       1  ...     21         3     1         1      2     1      1   \n",
            "996       2  ...     45         3     2         1      3     2      1   \n",
            "997       1  ...     30         3     3         1      4     2      2   \n",
            "998       1  ...     52         3     2         1      4     2      2   \n",
            "999       1  ...     31         3     2         1      3     2      1   \n",
            "\n",
            "     gastarb  Cluster Number  kredit  \n",
            "0          2               0       1  \n",
            "1          2               3       1  \n",
            "2          2               0       1  \n",
            "3          1               5       1  \n",
            "4          1               5       1  \n",
            "..       ...             ...     ...  \n",
            "995        2               3       0  \n",
            "996        2               4       0  \n",
            "997        2               2       0  \n",
            "998        2               2       0  \n",
            "999        2               1       0  \n",
            "\n",
            "[1000 rows x 22 columns]\n"
          ]
        }
      ]
    },
    {
      "cell_type": "code",
      "source": [
        "# df_kmeans.groupby('kredit')['Cluster Number'].value_counts()\n",
        "df_kmeans.groupby('Cluster Number')['kredit'].value_counts()"
      ],
      "metadata": {
        "colab": {
          "base_uri": "https://localhost:8080/"
        },
        "id": "EGwA1gEW04LG",
        "outputId": "2d93789e-b72f-4667-8160-5e6f5599066d"
      },
      "execution_count": null,
      "outputs": [
        {
          "output_type": "execute_result",
          "data": {
            "text/plain": [
              "Cluster Number  kredit\n",
              "0               1         108\n",
              "                0          73\n",
              "1               1         229\n",
              "                0          28\n",
              "2               0          76\n",
              "                1          73\n",
              "3               1          90\n",
              "                0          42\n",
              "4               1         167\n",
              "                0          78\n",
              "5               1          33\n",
              "                0           3\n",
              "Name: kredit, dtype: int64"
            ]
          },
          "metadata": {},
          "execution_count": 81
        }
      ]
    },
    {
      "cell_type": "code",
      "source": [
        "# Good to bad ratio for clusters\n",
        "\n",
        "c0 = 6.05/2.33\n",
        "c1 = 1.764/2.33\n",
        "c2 = 1.983/2.33\n",
        "c3 = 11/2.33\n",
        "c4 = 2.93/2.33\n",
        "c5 = 1.161/2.33\n",
        "\n",
        "print(c0, c1, c2, c3, c4, c5)"
      ],
      "metadata": {
        "colab": {
          "base_uri": "https://localhost:8080/"
        },
        "id": "p-blfo5e04p2",
        "outputId": "8c843722-9eb8-40cb-f65f-55b47929f350"
      },
      "execution_count": null,
      "outputs": [
        {
          "output_type": "stream",
          "name": "stdout",
          "text": [
            "2.59656652360515 0.7570815450643776 0.8510729613733906 4.721030042918454 1.257510729613734 0.4982832618025751\n"
          ]
        }
      ]
    },
    {
      "cell_type": "code",
      "source": [
        "# Assign kredit as 1 to clusters 0,3,4\n",
        "# Assign kredit as 0 to clusters 1,2,5\n"
      ],
      "metadata": {
        "id": "ga-hGwDKG2Iw"
      },
      "execution_count": null,
      "outputs": []
    },
    {
      "cell_type": "code",
      "source": [
        "labels = list(set(kredit))\n",
        "assign_labels = {}\n",
        "for c in range(k):\n",
        "    assign_labels[c]={}\n",
        "\n",
        "    for la in labels:\n",
        "        assign_labels[c][la] = 0\n",
        "\n",
        "for i in range(len(df_kmeans)):\n",
        "    assign_labels[kmeans_predict_train[i]][kredit[i]] += 1\n",
        "\n",
        "\n",
        "assign_labels"
      ],
      "metadata": {
        "colab": {
          "base_uri": "https://localhost:8080/",
          "height": 235
        },
        "id": "P703qE4CjeZi",
        "outputId": "037f3791-882b-47b4-fc0f-5b5d631e9dcd"
      },
      "execution_count": null,
      "outputs": [
        {
          "output_type": "error",
          "ename": "KeyError",
          "evalue": "ignored",
          "traceback": [
            "\u001b[0;31m---------------------------------------------------------------------------\u001b[0m",
            "\u001b[0;31mKeyError\u001b[0m                                  Traceback (most recent call last)",
            "\u001b[0;32m<ipython-input-93-6fa32c1d573d>\u001b[0m in \u001b[0;36m<module>\u001b[0;34m\u001b[0m\n\u001b[1;32m      8\u001b[0m \u001b[0;34m\u001b[0m\u001b[0m\n\u001b[1;32m      9\u001b[0m \u001b[0;32mfor\u001b[0m \u001b[0mi\u001b[0m \u001b[0;32min\u001b[0m \u001b[0mrange\u001b[0m\u001b[0;34m(\u001b[0m\u001b[0mlen\u001b[0m\u001b[0;34m(\u001b[0m\u001b[0mdf_kmeans\u001b[0m\u001b[0;34m)\u001b[0m\u001b[0;34m)\u001b[0m\u001b[0;34m:\u001b[0m\u001b[0;34m\u001b[0m\u001b[0;34m\u001b[0m\u001b[0m\n\u001b[0;32m---> 10\u001b[0;31m     \u001b[0massign_labels\u001b[0m\u001b[0;34m[\u001b[0m\u001b[0mkmeans_predict_train\u001b[0m\u001b[0;34m[\u001b[0m\u001b[0mi\u001b[0m\u001b[0;34m]\u001b[0m\u001b[0;34m]\u001b[0m\u001b[0;34m[\u001b[0m\u001b[0mkredit\u001b[0m\u001b[0;34m[\u001b[0m\u001b[0mi\u001b[0m\u001b[0;34m]\u001b[0m\u001b[0;34m]\u001b[0m \u001b[0;34m+=\u001b[0m \u001b[0;36m1\u001b[0m\u001b[0;34m\u001b[0m\u001b[0;34m\u001b[0m\u001b[0m\n\u001b[0m\u001b[1;32m     11\u001b[0m \u001b[0;34m\u001b[0m\u001b[0m\n\u001b[1;32m     12\u001b[0m \u001b[0;34m\u001b[0m\u001b[0m\n",
            "\u001b[0;31mKeyError\u001b[0m: 2"
          ]
        }
      ]
    },
    {
      "cell_type": "code",
      "source": [
        "pred_labels_6 = []\n",
        "for p in kmeans_predict_train:\n",
        "    pred_labels_6.append(max(assign_labels[p], key=assign_labels[p].get))\n",
        "    \n",
        "print(\"Confusion Matrix\")\n",
        "print(confusion_matrix(kredit,pred_labels_6))\n",
        "\n",
        "print(\"=== Classification Report ===\")\n",
        "print(classification_report(kredit,pred_labels_6))\n",
        "print('F1 Score')\n",
        "print(f1_score(kredit,pred_labels_6))\n",
        "print('Precision')\n",
        "print(precision_score(kredit,pred_labels_6))\n",
        "print('AUC')\n",
        "print(roc_auc_score(kredit,pred_labels_6))"
      ],
      "metadata": {
        "colab": {
          "base_uri": "https://localhost:8080/"
        },
        "id": "CUHNC3C9kH-Z",
        "outputId": "df8ac6b3-b0da-45b4-8da4-eb6e3e858f29"
      },
      "execution_count": null,
      "outputs": [
        {
          "output_type": "stream",
          "name": "stdout",
          "text": [
            "Confusion Matrix\n",
            "[[  0 300]\n",
            " [  0 700]]\n",
            "=== Classification Report ===\n",
            "              precision    recall  f1-score   support\n",
            "\n",
            "           0       0.00      0.00      0.00       300\n",
            "           1       0.70      1.00      0.82       700\n",
            "\n",
            "    accuracy                           0.70      1000\n",
            "   macro avg       0.35      0.50      0.41      1000\n",
            "weighted avg       0.49      0.70      0.58      1000\n",
            "\n",
            "F1 Score\n",
            "0.8235294117647058\n",
            "Precision\n",
            "0.7\n",
            "AUC\n",
            "0.5\n"
          ]
        }
      ]
    },
    {
      "cell_type": "code",
      "source": [
        "k = 2\n",
        "\n",
        "for col in (df_kmeans.columns):\n",
        "    means_ = []\n",
        "    for c in range(k):\n",
        "        means_.append(df_kmeans[df_kmeans['Cluster Number'] == c][col].mean())\n",
        "        \n",
        "    plt.xticks(np.arange(k))\n",
        "    plt.title('Mean '+col+ ' by Clusters')\n",
        "    plt.xlabel('clusters')\n",
        "    plt.ylabel(col)\n",
        "    plt.grid(False)\n",
        "\n",
        "    plt.bar(range(k), means_, color=['orange', 'b'])\n",
        "    plt.show()"
      ],
      "metadata": {
        "colab": {
          "base_uri": "https://localhost:8080/",
          "height": 1000
        },
        "id": "WsqT8CVQlE4u",
        "outputId": "2a3b23b1-6622-4933-af84-253f5e34fbbe"
      },
      "execution_count": null,
      "outputs": [
        {
          "output_type": "display_data",
          "data": {
            "text/plain": [
              "<Figure size 432x288 with 1 Axes>"
            ],
            "image/png": "[encoded data removed]"
          },
          "metadata": {
            "needs_background": "light"
          }
        },
        {
          "output_type": "display_data",
          "data": {
            "text/plain": [
              "<Figure size 432x288 with 1 Axes>"
            ],
            "image/png": "[encoded data removed]"
          },
          "metadata": {
            "needs_background": "light"
          }
        },
        {
          "output_type": "display_data",
          "data": {
            "text/plain": [
              "<Figure size 432x288 with 1 Axes>"
            ],
            "image/png": "[encoded data removed]"
          },
          "metadata": {
            "needs_background": "light"
          }
        },
        {
          "output_type": "display_data",
          "data": {
            "text/plain": [
              "<Figure size 432x288 with 1 Axes>"
            ],
            "image/png": "[encoded data removed]"
          },
          "metadata": {
            "needs_background": "light"
          }
        },
        {
          "output_type": "display_data",
          "data": {
            "text/plain": [
              "<Figure size 432x288 with 1 Axes>"
            ],
            "image/png": "[encoded data removed]"
          },
          "metadata": {
            "needs_background": "light"
          }
        },
        {
          "output_type": "display_data",
          "data": {
            "text/plain": [
              "<Figure size 432x288 with 1 Axes>"
            ],
            "image/png": "[encoded data removed]"
          },
          "metadata": {
            "needs_background": "light"
          }
        },
        {
          "output_type": "display_data",
          "data": {
            "text/plain": [
              "<Figure size 432x288 with 1 Axes>"
            ],
            "image/png": "[encoded data removed]"
          },
          "metadata": {
            "needs_background": "light"
          }
        },
        {
          "output_type": "display_data",
          "data": {
            "text/plain": [
              "<Figure size 432x288 with 1 Axes>"
            ],
            "image/png": "[encoded data removed]"
          },
          "metadata": {
            "needs_background": "light"
          }
        },
        {
          "output_type": "display_data",
          "data": {
            "text/plain": [
              "<Figure size 432x288 with 1 Axes>"
            ],
            "image/png": "[encoded data removed]"
          },
          "metadata": {
            "needs_background": "light"
          }
        },
        {
          "output_type": "display_data",
          "data": {
            "text/plain": [
              "<Figure size 432x288 with 1 Axes>"
            ],
            "image/png": "[encoded data removed]"
          },
          "metadata": {
            "needs_background": "light"
          }
        },
        {
          "output_type": "display_data",
          "data": {
            "text/plain": [
              "<Figure size 432x288 with 1 Axes>"
            ],
            "image/png": "[encoded data removed]"
          },
          "metadata": {
            "needs_background": "light"
          }
        },
        {
          "output_type": "display_data",
          "data": {
            "text/plain": [
              "<Figure size 432x288 with 1 Axes>"
            ],
            "image/png": "[encoded data removed]"
          },
          "metadata": {
            "needs_background": "light"
          }
        },
        {
          "output_type": "display_data",
          "data": {
            "text/plain": [
              "<Figure size 432x288 with 1 Axes>"
            ],
            "image/png": "[encoded data removed]"
          },
          "metadata": {
            "needs_background": "light"
          }
        },
        {
          "output_type": "display_data",
          "data": {
            "text/plain": [
              "<Figure size 432x288 with 1 Axes>"
            ],
            "image/png": "[encoded data removed]"
          },
          "metadata": {
            "needs_background": "light"
          }
        },
        {
          "output_type": "display_data",
          "data": {
            "text/plain": [
              "<Figure size 432x288 with 1 Axes>"
            ],
            "image/png": "[encoded data removed]"
          },
          "metadata": {
            "needs_background": "light"
          }
        },
        {
          "output_type": "display_data",
          "data": {
            "text/plain": [
              "<Figure size 432x288 with 1 Axes>"
            ],
            "image/png": "[encoded data removed]"
          },
          "metadata": {
            "needs_background": "light"
          }
        },
        {
          "output_type": "display_data",
          "data": {
            "text/plain": [
              "<Figure size 432x288 with 1 Axes>"
            ],
            "image/png": "[encoded data removed]"
          },
          "metadata": {
            "needs_background": "light"
          }
        },
        {
          "output_type": "display_data",
          "data": {
            "text/plain": [
              "<Figure size 432x288 with 1 Axes>"
            ],
            "image/png": "[encoded data removed]"
          },
          "metadata": {
            "needs_background": "light"
          }
        },
        {
          "output_type": "display_data",
          "data": {
            "text/plain": [
              "<Figure size 432x288 with 1 Axes>"
            ],
            "image/png": "[encoded data removed]"
          },
          "metadata": {
            "needs_background": "light"
          }
        },
        {
          "output_type": "display_data",
          "data": {
            "text/plain": [
              "<Figure size 432x288 with 1 Axes>"
            ],
            "image/png": "[encoded data removed]"
          },
          "metadata": {
            "needs_background": "light"
          }
        },
        {
          "output_type": "display_data",
          "data": {
            "text/plain": [
              "<Figure size 432x288 with 1 Axes>"
            ],
            "image/png": "[encoded data removed]"
          },
          "metadata": {
            "needs_background": "light"
          }
        },
        {
          "output_type": "display_data",
          "data": {
            "text/plain": [
              "<Figure size 432x288 with 1 Axes>"
            ],
            "image/png": "[encoded data removed]"
          },
          "metadata": {
            "needs_background": "light"
          }
        }
      ]
    },
    {
      "cell_type": "code",
      "source": [],
      "metadata": {
        "id": "TJMWvWCXljj6"
      },
      "execution_count": null,
      "outputs": []
    }
  ]
}