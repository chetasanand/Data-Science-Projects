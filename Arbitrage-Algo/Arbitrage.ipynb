{
 "cells": [
  {
   "cell_type": "markdown",
   "metadata": {},
   "source": [
    "We have data of 7 markets\n",
    "\n",
    "Fields: Datetime, bid, ask\n",
    "\n",
    "Bid price: Aggregate price at which sellers want to sell. I'll sell at Bid price.\n",
    "Ask price: Aggregate price at which buyers want to buy. I'll buy at Ask price.\n",
    "Spread: Difference between Bid price and ask price\n",
    "\n",
    "Arbitrage theory: As long as there is spread you make money, bigger the spread bigger the return. \n",
    "Doesnt exist anymore except in hard to track markets, because of visibility and market efficiency.\n",
    "\n",
    "Solution:\n",
    "\n",
    "Aggregate all markets in one dataframe based on timestamp.\n",
    "\n",
    "At that timestamp find the max spread, go all in hoping that there is buyer and seller volume, since that data is not given. "
   ]
  },
  {
   "cell_type": "code",
   "execution_count": 16,
   "metadata": {},
   "outputs": [
    {
     "name": "stdout",
     "output_type": "stream",
     "text": [
      "Note: you may need to restart the kernel to use updated packages.\n"
     ]
    },
    {
     "name": "stderr",
     "output_type": "stream",
     "text": [
      "ERROR: Could not find a version that satisfies the requirement glob (from versions: none)\n",
      "ERROR: No matching distribution found for glob\n",
      "\n",
      "[notice] A new release of pip available: 22.2.2 -> 23.3.2\n",
      "[notice] To update, run: python.exe -m pip install --upgrade pip\n"
     ]
    }
   ],
   "source": [
    "pip install glob"
   ]
  },
  {
   "cell_type": "code",
   "execution_count": 67,
   "metadata": {},
   "outputs": [],
   "source": [
    "import pandas as pd\n",
    "import numpy as np\n",
    "import os"
   ]
  },
  {
   "cell_type": "code",
   "execution_count": 41,
   "metadata": {},
   "outputs": [
    {
     "name": "stdout",
     "output_type": "stream",
     "text": [
      "['Arbitrage-Algo-dataset/datasets\\\\market-1.csv', 'Arbitrage-Algo-dataset/datasets\\\\market-2.csv', 'Arbitrage-Algo-dataset/datasets\\\\market-3.csv', 'Arbitrage-Algo-dataset/datasets\\\\market-4.csv', 'Arbitrage-Algo-dataset/datasets\\\\market-5.csv', 'Arbitrage-Algo-dataset/datasets\\\\market-6.csv', 'Arbitrage-Algo-dataset/datasets\\\\market-7.csv']\n"
     ]
    }
   ],
   "source": [
    "# Get a list of all the CSV files in the specified directory\n",
    "csv_files = glob.glob('Arbitrage-Algo-dataset/datasets/*.csv')\n",
    "\n",
    "print(csv_files)"
   ]
  },
  {
   "cell_type": "code",
   "execution_count": 55,
   "metadata": {},
   "outputs": [
    {
     "name": "stdout",
     "output_type": "stream",
     "text": [
      "              Datetime  market-1-bid  market-1-ask\n",
      "0  2017-04-27 19:58:12        1428.1        1428.2\n",
      "1  2017-04-27 19:58:15        1428.1        1428.2\n",
      "2  2017-04-27 19:58:18        1428.2        1428.9\n",
      "3  2017-04-27 19:58:21        1427.5        1428.9\n",
      "4  2017-04-27 19:58:24        1427.5        1428.9\n",
      "              Datetime  market-2-bid  market-2-ask\n",
      "0  2017-04-27 19:58:12       1326.08       1327.34\n",
      "1  2017-04-27 19:58:15       1326.08       1327.34\n",
      "2  2017-04-27 19:58:18       1326.09       1327.34\n",
      "3  2017-04-27 19:58:21       1326.09       1327.34\n",
      "4  2017-04-27 19:58:24       1326.11       1327.33\n",
      "              Datetime  market-3-bid  market-3-ask\n",
      "0  2017-04-27 19:58:12       1298.84        1299.5\n",
      "1  2017-04-27 19:58:15       1298.84        1299.5\n",
      "2  2017-04-27 19:58:18       1298.39        1299.5\n",
      "3  2017-04-27 19:58:21       1298.39        1299.5\n",
      "4  2017-04-27 19:58:24       1298.39        1299.5\n",
      "              Datetime  market-4-bid  market-4-ask\n",
      "0  2017-04-27 19:58:12        1339.8       1339.98\n",
      "1  2017-04-27 19:58:15        1339.8       1339.98\n",
      "2  2017-04-27 19:58:18        1339.8       1339.98\n",
      "3  2017-04-27 19:58:21        1339.8       1339.98\n",
      "4  2017-04-27 19:58:24        1339.8       1339.98\n",
      "              Datetime  market-5-bid  market-5-ask\n",
      "0  2017-04-27 19:58:12       1324.88       1328.99\n",
      "1  2017-04-27 19:58:15       1324.88       1328.99\n",
      "2  2017-04-27 19:58:18       1324.89       1328.99\n",
      "3  2017-04-27 19:58:21       1324.89       1328.99\n",
      "4  2017-04-27 19:58:24       1324.99       1328.99\n",
      "              Datetime  market-6-bid  market-6-ask\n",
      "0  2017-04-27 19:58:12       1288.03       1290.75\n",
      "1  2017-04-27 19:58:15       1288.05       1290.75\n",
      "2  2017-04-27 19:58:18       1288.07       1290.75\n",
      "3  2017-04-27 19:58:21       1288.09       1290.75\n",
      "4  2017-04-27 19:58:24       1288.09       1290.75\n",
      "              Datetime  market-7-bid  market-7-ask\n",
      "0  2017-04-27 19:58:12        1429.1        1429.1\n",
      "1  2017-04-27 19:58:15        1429.1        1429.1\n",
      "2  2017-04-27 19:58:18        1429.1        1429.1\n",
      "3  2017-04-27 19:58:21        1429.1        1429.1\n",
      "4  2017-04-27 19:58:24        1429.1        1429.1\n",
      "              Datetime  market-1-bid  market-1-ask\n",
      "0  2017-04-27 19:58:12        1428.1        1428.2\n",
      "1  2017-04-27 19:58:15        1428.1        1428.2\n",
      "2  2017-04-27 19:58:18        1428.2        1428.9\n",
      "3  2017-04-27 19:58:21        1427.5        1428.9\n",
      "4  2017-04-27 19:58:24        1427.5        1428.9\n"
     ]
    }
   ],
   "source": [
    "# Dictionary to store dataframes\n",
    "dfs = {}\n",
    "\n",
    "# Read each CSV file into a dataframe and store in the dictionary\n",
    "for csv_file in csv_files:\n",
    "    df = pd.read_csv(csv_file, sep=';')\n",
    "    # print(csv_file[-12:-4]+\"-bid\")\n",
    "    df = df.rename(columns={'bid':csv_file[-12:-4]+\"-bid\", 'ask':csv_file[-12:-4]+\"-ask\"})\n",
    "    print(df.head())\n",
    "    dfs[csv_file] = df\n",
    "\n",
    "\n",
    "# Now, dfs is a dictionary where keys are filenames and values are dataframes\n",
    "# You can access a specific dataframe using dfs['filename.csv']\n",
    "# For example, print the first few rows of the first dataframe:\n",
    "print(dfs[csv_files[0]].head())"
   ]
  },
  {
   "cell_type": "code",
   "execution_count": 56,
   "metadata": {},
   "outputs": [
    {
     "data": {
      "text/html": [
       "<div>\n",
       "<style scoped>\n",
       "    .dataframe tbody tr th:only-of-type {\n",
       "        vertical-align: middle;\n",
       "    }\n",
       "\n",
       "    .dataframe tbody tr th {\n",
       "        vertical-align: top;\n",
       "    }\n",
       "\n",
       "    .dataframe thead th {\n",
       "        text-align: right;\n",
       "    }\n",
       "</style>\n",
       "<table border=\"1\" class=\"dataframe\">\n",
       "  <thead>\n",
       "    <tr style=\"text-align: right;\">\n",
       "      <th></th>\n",
       "      <th>Datetime</th>\n",
       "      <th>market-1-bid</th>\n",
       "      <th>market-1-ask</th>\n",
       "    </tr>\n",
       "  </thead>\n",
       "  <tbody>\n",
       "    <tr>\n",
       "      <th>0</th>\n",
       "      <td>2017-04-27 19:58:12</td>\n",
       "      <td>1428.1</td>\n",
       "      <td>1428.2</td>\n",
       "    </tr>\n",
       "    <tr>\n",
       "      <th>1</th>\n",
       "      <td>2017-04-27 19:58:15</td>\n",
       "      <td>1428.1</td>\n",
       "      <td>1428.2</td>\n",
       "    </tr>\n",
       "    <tr>\n",
       "      <th>2</th>\n",
       "      <td>2017-04-27 19:58:18</td>\n",
       "      <td>1428.2</td>\n",
       "      <td>1428.9</td>\n",
       "    </tr>\n",
       "    <tr>\n",
       "      <th>3</th>\n",
       "      <td>2017-04-27 19:58:21</td>\n",
       "      <td>1427.5</td>\n",
       "      <td>1428.9</td>\n",
       "    </tr>\n",
       "    <tr>\n",
       "      <th>4</th>\n",
       "      <td>2017-04-27 19:58:24</td>\n",
       "      <td>1427.5</td>\n",
       "      <td>1428.9</td>\n",
       "    </tr>\n",
       "    <tr>\n",
       "      <th>...</th>\n",
       "      <td>...</td>\n",
       "      <td>...</td>\n",
       "      <td>...</td>\n",
       "    </tr>\n",
       "    <tr>\n",
       "      <th>534527</th>\n",
       "      <td>2017-05-28 14:03:00</td>\n",
       "      <td>2139.8</td>\n",
       "      <td>2143.0</td>\n",
       "    </tr>\n",
       "    <tr>\n",
       "      <th>534528</th>\n",
       "      <td>2017-05-28 14:03:03</td>\n",
       "      <td>2139.8</td>\n",
       "      <td>2143.0</td>\n",
       "    </tr>\n",
       "    <tr>\n",
       "      <th>534529</th>\n",
       "      <td>2017-05-28 14:03:06</td>\n",
       "      <td>2140.9</td>\n",
       "      <td>2143.0</td>\n",
       "    </tr>\n",
       "    <tr>\n",
       "      <th>534530</th>\n",
       "      <td>2017-05-28 14:03:09</td>\n",
       "      <td>2140.9</td>\n",
       "      <td>2143.0</td>\n",
       "    </tr>\n",
       "    <tr>\n",
       "      <th>534531</th>\n",
       "      <td>2017-05-28 14:03:12</td>\n",
       "      <td>2140.9</td>\n",
       "      <td>2143.0</td>\n",
       "    </tr>\n",
       "  </tbody>\n",
       "</table>\n",
       "<p>534532 rows × 3 columns</p>\n",
       "</div>"
      ],
      "text/plain": [
       "                   Datetime  market-1-bid  market-1-ask\n",
       "0       2017-04-27 19:58:12        1428.1        1428.2\n",
       "1       2017-04-27 19:58:15        1428.1        1428.2\n",
       "2       2017-04-27 19:58:18        1428.2        1428.9\n",
       "3       2017-04-27 19:58:21        1427.5        1428.9\n",
       "4       2017-04-27 19:58:24        1427.5        1428.9\n",
       "...                     ...           ...           ...\n",
       "534527  2017-05-28 14:03:00        2139.8        2143.0\n",
       "534528  2017-05-28 14:03:03        2139.8        2143.0\n",
       "534529  2017-05-28 14:03:06        2140.9        2143.0\n",
       "534530  2017-05-28 14:03:09        2140.9        2143.0\n",
       "534531  2017-05-28 14:03:12        2140.9        2143.0\n",
       "\n",
       "[534532 rows x 3 columns]"
      ]
     },
     "execution_count": 56,
     "metadata": {},
     "output_type": "execute_result"
    }
   ],
   "source": [
    "dfs[csv_files[0]]"
   ]
  },
  {
   "cell_type": "code",
   "execution_count": 74,
   "metadata": {},
   "outputs": [
    {
     "name": "stdout",
     "output_type": "stream",
     "text": [
      "              Datetime  market-1-bid  market-1-ask  market-2-bid  \\\n",
      "0  2017-04-27 19:58:12        1428.1        1428.2       1326.08   \n",
      "1  2017-04-27 19:58:15        1428.1        1428.2       1326.08   \n",
      "2  2017-04-27 19:58:18        1428.2        1428.9       1326.09   \n",
      "3  2017-04-27 19:58:21        1427.5        1428.9       1326.09   \n",
      "4  2017-04-27 19:58:24        1427.5        1428.9       1326.11   \n",
      "\n",
      "   market-2-ask  market-3-bid  market-3-ask  market-4-bid  market-4-ask  \\\n",
      "0       1327.34       1298.84        1299.5        1339.8       1339.98   \n",
      "1       1327.34       1298.84        1299.5        1339.8       1339.98   \n",
      "2       1327.34       1298.39        1299.5        1339.8       1339.98   \n",
      "3       1327.34       1298.39        1299.5        1339.8       1339.98   \n",
      "4       1327.33       1298.39        1299.5        1339.8       1339.98   \n",
      "\n",
      "   market-5-bid  market-5-ask  market-6-bid  market-6-ask  market-7-bid  \\\n",
      "0       1324.88       1328.99       1288.03       1290.75        1429.1   \n",
      "1       1324.88       1328.99       1288.05       1290.75        1429.1   \n",
      "2       1324.89       1328.99       1288.07       1290.75        1429.1   \n",
      "3       1324.89       1328.99       1288.09       1290.75        1429.1   \n",
      "4       1324.99       1328.99       1288.09       1290.75        1429.1   \n",
      "\n",
      "   market-7-ask  \n",
      "0        1429.1  \n",
      "1        1429.1  \n",
      "2        1429.1  \n",
      "3        1429.1  \n",
      "4        1429.1  \n"
     ]
    }
   ],
   "source": [
    "from functools import reduce\n",
    "\n",
    "# Extract all dataframes from the dictionary\n",
    "dataframes_list = list(dfs.values())\n",
    "\n",
    "# Use reduce to iteratively merge the dataframes\n",
    "merged_df = reduce(lambda left, right: pd.merge(left, right, on='Datetime', how='outer'), dataframes_list)\n",
    "\n",
    "# Print the first few rows of the merged dataframe\n",
    "print(merged_df.head())\n"
   ]
  },
  {
   "cell_type": "code",
   "execution_count": 75,
   "metadata": {},
   "outputs": [],
   "source": [
    "merged_df.to_csv(r'C:\\Users\\LENOVO PRO\\Workspace\\Projects\\Data-Science-Projects\\Arbitrage-Algo.csv', index=False)\n"
   ]
  },
  {
   "cell_type": "code",
   "execution_count": 73,
   "metadata": {},
   "outputs": [
    {
     "name": "stdout",
     "output_type": "stream",
     "text": [
      "<class 'pandas.core.frame.DataFrame'>\n",
      "RangeIndex: 659 entries, 0 to 658\n",
      "Data columns (total 41 columns):\n",
      " #   Column               Non-Null Count  Dtype  \n",
      "---  ------               --------------  -----  \n",
      " 0   Datetime             659 non-null    object \n",
      " 1   market-1-bid         659 non-null    float64\n",
      " 2   market-1-ask         659 non-null    float64\n",
      " 3   market-2-bid         659 non-null    float64\n",
      " 4   market-2-ask         659 non-null    float64\n",
      " 5   market-3-bid         659 non-null    float64\n",
      " 6   market-3-ask         659 non-null    float64\n",
      " 7   market-4-bid         659 non-null    float64\n",
      " 8   market-4-ask         659 non-null    float64\n",
      " 9   market-5-bid         659 non-null    float64\n",
      " 10  market-5-ask         659 non-null    float64\n",
      " 11  market-6-bid         659 non-null    float64\n",
      " 12  market-6-ask         659 non-null    float64\n",
      " 13  market-7-bid         659 non-null    float64\n",
      " 14  market-7-ask         659 non-null    float64\n",
      " 15  ask-price            659 non-null    float64\n",
      " 16  bid-price            659 non-null    float64\n",
      " 17  spread               659 non-null    float64\n",
      " 18  bid-market           659 non-null    object \n",
      " 19  ask-market           659 non-null    object \n",
      " 20  market-1-volume      659 non-null    int32  \n",
      " 21  market-2-volume      659 non-null    int32  \n",
      " 22  market-3-volume      659 non-null    int32  \n",
      " 23  market-4-volume      659 non-null    int32  \n",
      " 24  market-5-volume      659 non-null    int32  \n",
      " 25  market-6-volume      659 non-null    int32  \n",
      " 26  market-7-volume      659 non-null    int32  \n",
      " 27  market-1-Bid-volume  659 non-null    int32  \n",
      " 28  market-1-Ask-volume  659 non-null    int32  \n",
      " 29  market-2-Bid-volume  659 non-null    int32  \n",
      " 30  market-2-Ask-volume  659 non-null    int32  \n",
      " 31  market-3-Bid-volume  659 non-null    int32  \n",
      " 32  market-3-Ask-volume  659 non-null    int32  \n",
      " 33  market-4-Bid-volume  659 non-null    int32  \n",
      " 34  market-4-Ask-volume  659 non-null    int32  \n",
      " 35  market-5-Bid-volume  659 non-null    int32  \n",
      " 36  market-5-Ask-volume  659 non-null    int32  \n",
      " 37  market-6-Bid-volume  659 non-null    int32  \n",
      " 38  market-6-Ask-volume  659 non-null    int32  \n",
      " 39  market-7-Bid-volume  659 non-null    int32  \n",
      " 40  market-7-Ask-volume  659 non-null    int32  \n",
      "dtypes: float64(17), int32(21), object(3)\n",
      "memory usage: 157.2+ KB\n"
     ]
    }
   ],
   "source": [
    "merged_df.info()"
   ]
  },
  {
   "cell_type": "code",
   "execution_count": 69,
   "metadata": {},
   "outputs": [
    {
     "name": "stdout",
     "output_type": "stream",
     "text": [
      "              Datetime  market-1-bid  market-1-ask  market-2-bid  \\\n",
      "0  2017-04-27 19:58:12        1428.1        1428.2       1326.08   \n",
      "1  2017-04-27 19:58:15        1428.1        1428.2       1326.08   \n",
      "2  2017-04-27 19:58:18        1428.2        1428.9       1326.09   \n",
      "3  2017-04-27 19:58:21        1427.5        1428.9       1326.09   \n",
      "4  2017-04-27 19:58:24        1427.5        1428.9       1326.11   \n",
      "\n",
      "   market-2-ask  market-3-bid  market-3-ask  market-4-bid  market-4-ask  \\\n",
      "0       1327.34       1298.84        1299.5        1339.8       1339.98   \n",
      "1       1327.34       1298.84        1299.5        1339.8       1339.98   \n",
      "2       1327.34       1298.39        1299.5        1339.8       1339.98   \n",
      "3       1327.34       1298.39        1299.5        1339.8       1339.98   \n",
      "4       1327.33       1298.39        1299.5        1339.8       1339.98   \n",
      "\n",
      "   market-5-bid  ...  market-3-Bid-volume  market-3-Ask-volume  \\\n",
      "0       1324.88  ...                   21                   22   \n",
      "1       1324.88  ...                   28                   42   \n",
      "2       1324.89  ...                   26                   22   \n",
      "3       1324.89  ...                   39                   28   \n",
      "4       1324.99  ...                   21                   27   \n",
      "\n",
      "   market-4-Bid-volume  market-4-Ask-volume  market-5-Bid-volume  \\\n",
      "0                   18                    3                   17   \n",
      "1                   23                   43                   13   \n",
      "2                   37                   41                   14   \n",
      "3                   42                   21                   30   \n",
      "4                   35                   36                   45   \n",
      "\n",
      "   market-5-Ask-volume  market-6-Bid-volume  market-6-Ask-volume  \\\n",
      "0                   41                   47                   50   \n",
      "1                   21                    8                   36   \n",
      "2                   14                   30                    5   \n",
      "3                   24                   46                   48   \n",
      "4                   24                   25                   31   \n",
      "\n",
      "  market-7-Bid-volume market-7-Ask-volume  \n",
      "0                   4                  20  \n",
      "1                  50                  32  \n",
      "2                  45                   7  \n",
      "3                  12                  50  \n",
      "4                   2                  38  \n",
      "\n",
      "[5 rows x 41 columns]\n"
     ]
    }
   ],
   "source": [
    "# Extract the columns related to ask prices\n",
    "ask_columns = [col for col in merged_df.columns if col.endswith('-ask')]\n",
    "\n",
    "# Create a new column 'ask-price' with the minimum ask price for each row\n",
    "merged_df['ask-price'] = merged_df[ask_columns].min(axis=1)\n",
    "\n",
    "# Extract the columns related to bid prices\n",
    "bid_columns = [col for col in merged_df.columns if col.endswith('-bid')]\n",
    "\n",
    "# Create a new column 'bid-price' with the minimum bid price for each row\n",
    "merged_df['bid-price'] = merged_df[bid_columns].max(axis=1)\n",
    "\n",
    "# Create columns for bid-market and ask-market\n",
    "merged_df['bid-market'] = merged_df.filter(like='-bid').idxmax(axis=1).apply(lambda x: x.split('-')[1])\n",
    "merged_df['ask-market'] = merged_df.filter(like='-ask').idxmin(axis=1).apply(lambda x: x.split('-')[1])\n",
    "\n",
    "# Create a new column 'spread' \n",
    "merged_df['spread'] = merged_df['bid-price'] - merged_df['ask-price']\n",
    "\n",
    "\n",
    "# Assuming merged_df is your dataframe\n",
    "markets = [f'market-{i}' for i in range(1, 8)]\n",
    "\n",
    "# Create a random volume between 1 and 50 for each market\n",
    "for market in markets:\n",
    "    merged_df[f'{market}-Bid-volume'] = np.random.randint(1, 51, size=len(merged_df))\n",
    "    merged_df[f'{market}-Ask-volume'] = np.random.randint(1, 51, size=len(merged_df))\n",
    "\n",
    "\n",
    "# Print the updated dataframe\n",
    "print(merged_df.head())\n"
   ]
  },
  {
   "cell_type": "code",
   "execution_count": null,
   "metadata": {},
   "outputs": [],
   "source": [
    "Investment = 1000\n",
    "\n",
    "Demand = rand"
   ]
  }
 ],
 "metadata": {
  "kernelspec": {
   "display_name": "Python 3",
   "language": "python",
   "name": "python3"
  },
  "language_info": {
   "codemirror_mode": {
    "name": "ipython",
    "version": 3
   },
   "file_extension": ".py",
   "mimetype": "text/x-python",
   "name": "python",
   "nbconvert_exporter": "python",
   "pygments_lexer": "ipython3",
   "version": "3.10.7"
  }
 },
 "nbformat": 4,
 "nbformat_minor": 2
}
